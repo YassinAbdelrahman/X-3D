{
 "cells": [
  {
   "cell_type": "code",
   "execution_count": 4,
   "metadata": {},
   "outputs": [
    {
     "name": "stdout",
     "output_type": "stream",
     "text": [
      "torch.Size([1, 1, 200, 80])\n"
     ]
    }
   ],
   "source": [
    "# import matplotlib.pyplot as plt# type: ignore\n",
    "# import torch# type: ignore\n",
    "# import torchio as tio# type: ignore\n",
    "# import os\n",
    "# import seaborn as sns #type: ignore\n",
    "# from tqdm import tqdm #type: ignore\n",
    "# import pandas as pd #type:ignore\n",
    "\n",
    "\n",
    "# import random\n",
    "# import math\n",
    "# from diffdrr.drr import DRR# type: ignore\n",
    "# from diffdrr.visualization import plot_drr # type: ignore\n",
    "# from diffdrr.data import read# type: ignore\n",
    "# from diffdrr.pose import convert # type: ignore\n",
    "# from diffdrr.registration import Registration # type: ignore\n",
    "# import numpy as np# type: ignore\n",
    "# from diffdrr.metrics import NormalizedCrossCorrelation2d # type: ignore\n",
    "\n",
    "# device = torch.device(\"cuda\" if torch.cuda.is_available() else \"cpu\")\n",
    "# input_folder = \"Data/segmented_data/artemis_femur/\"\n",
    "# # output_folder = \"/Data/segmented_data/artemis_femur\"\n",
    "# filenames = sorted(os.listdir(input_folder))\n",
    "# plt.figure()\n",
    "# i = 0\n",
    "# rotations = torch.tensor([[0.0, 0.0, 0.0]], device=device)\n",
    "# translations = torch.tensor([[0.0, 2300.0, -290.0]], device=device)\n",
    "# image = filenames[0]\n",
    "# img = tio.ScalarImage(os.path.join(input_folder, image))\n",
    "# bounds = img.get_bounds()\n",
    "# width = int(abs(bounds[1][1] - bounds[1][0])) + 120\n",
    "# height = int((abs(bounds[2][1] - bounds[2][0]) + 150) ) \n",
    "# print(width, height)\n",
    "# sub = read(\n",
    "#     volume=img,\n",
    "#     orientation=\"AP\",\n",
    "#     bone_attenuation_multiplier=9.0,\n",
    "# )\n",
    "\n",
    "# subject = tio.Subject(sub)\n",
    "\n",
    "# drr = DRR(\n",
    "#     subject,  # A torchio.Subject object storing the CT volume, origin, and voxel spacing\n",
    "#     sdd=2560,  # Source-to-detector distance (i.e., the C-arm's focal length)\n",
    "#     height=height,\n",
    "#     width=width,  # Height of the DRR (if width is not seperately provided, the generated image is square)\n",
    "#     delx=2,  # Pixel spacing (in mm)\n",
    "# ).to(device)\n",
    "# # Set the camera pose with rotations (yaw, pitch, roll) and translations (x, y, z)\n",
    "\n",
    "\n",
    "# # print(image)\n",
    "    \n",
    "    \n",
    "#     # rotations[0][1] =   random.uniform(-5, 5) * math.pi / 180\n",
    "#     # print(bounds)\n",
    "#     # width = int(\n",
    "#     #     (abs(bounds[0][1] - bounds[0][0])) + abs(bounds[1][1] - bounds[1][0] / 2)\n",
    "#     # )\n",
    "    \n",
    "    \n",
    "# img = drr(\n",
    "#     rotations,\n",
    "#     translations,\n",
    "#     parameterization=\"euler_angles\",\n",
    "#     convention=\"ZXY\",\n",
    "# )\n",
    "# # half_height = img.shape[2] // 2\n",
    "# # img = img[:, :, :half_height]\n",
    "# plot_drr(img, ticks=False)\n",
    "# # torch.save(img, os.path.join(output_folder, f\"DRR_torch_{i}\"))\n",
    "# # print(img)\n",
    "# # plt.show()\n",
    "# # pose = convert(\n",
    "# #     rotations, translations, parameterization=\"euler_angles\", convention=\"ZXY\"\n",
    "# # )\n",
    "# ground_truth = img\n",
    "# image = image.replace(\".nii.gz\", \"\")\n",
    "# # imgs = []\n",
    "# # n_points = [200, 400, 600, 800, 1000]\n",
    "# # for n in n_points:\n",
    "# #     img = drr(pose, n_points=n)\n",
    "# #     imgs.append(img)\n",
    "# # fig, axs = plt.subplots(1, 4, figsize=(14, 7), dpi=300, tight_layout=True)\n",
    "# # img = torch.concat(imgs)\n",
    "# # axs = plot_drr(img, ticks=False, title=[f\"n_points={n}\" for n in n_points], axs=axs)\n",
    "# plt.savefig(f\"Data/test/img_{image}_{i}.png\")\n",
    "# plt.show()\n",
    "import torch\n",
    "from PIL import Image, ImageOps\n",
    "import torchvision.transforms as transforms\n",
    "\n",
    "# Read a PIL image\n",
    "image = Image.open('/nethome/2514818/Data/test/img_ANON2AU6SI16S_XRAY_RIGHT.png')\n",
    "image = ImageOps.grayscale(image) \n",
    "\n",
    "# Define a transform to convert PIL \n",
    "# image to a Torch tensor\n",
    "transform = transforms.Compose([\n",
    "    transforms.PILToTensor()\n",
    "])\n",
    "\n",
    "# transform = transforms.PILToTensor()\n",
    "# Convert the PIL image to Torch tensor\n",
    "ground_truth = transform(image).unsqueeze(1)\n",
    "ground_truth = torch.nn.functional.interpolate(ground_truth,size=(200,80))\n",
    "# ground_truth = (ground_truth/255)\n",
    "ground_truth = ground_truth.float()\n",
    "# print the converted Torch tensor\n",
    "print(ground_truth.shape)\n"
   ]
  },
  {
   "cell_type": "code",
   "execution_count": 5,
   "metadata": {},
   "outputs": [
    {
     "data": {
      "text/plain": [
       "<Figure size 640x480 with 0 Axes>"
      ]
     },
     "metadata": {},
     "output_type": "display_data"
    },
    {
     "data": {
      "image/png": "[encoded data removed]",
      "text/plain": [
       "<Figure size 1000x500 with 1 Axes>"
      ]
     },
     "metadata": {},
     "output_type": "display_data"
    },
    {
     "name": "stdout",
     "output_type": "stream",
     "text": [
      "torch.Size([1, 1, 200, 80])\n"
     ]
    }
   ],
   "source": [
    "import matplotlib.pyplot as plt# type: ignore\n",
    "import torch# type: ignore\n",
    "import torchio as tio# type: ignore\n",
    "import os\n",
    "import seaborn as sns #type: ignore\n",
    "from tqdm import tqdm #type: ignore\n",
    "import pandas as pd #type:ignore\n",
    "\n",
    "\n",
    "import random\n",
    "import math\n",
    "from diffdrr.drr import DRR# type: ignore\n",
    "from diffdrr.visualization import plot_drr # type: ignore\n",
    "from diffdrr.data import read# type: ignore\n",
    "from diffdrr.pose import convert # type: ignore\n",
    "from diffdrr.registration import Registration # type: ignore\n",
    "import numpy as np# type: ignore\n",
    "from diffdrr.metrics import NormalizedCrossCorrelation2d # type: ignore\n",
    "\n",
    "device = torch.device(\"cuda\" if torch.cuda.is_available() else \"cpu\")\n",
    "input_folder = \"/nethome/2514818/Data/paired_segmentations/ANON2AU6SI16S\"\n",
    "# output_folder = \"/Data/segmented_data/artemis_femur\"\n",
    "filenames = sorted(os.listdir(input_folder))\n",
    "plt.figure()\n",
    "i = 0\n",
    "rotations = torch.tensor([[0.0, 0.0, 0.0]], device=device)\n",
    "translations = torch.tensor([[50.0, 2400.0, 165.0]], device=device)\n",
    "image = filenames[0]\n",
    "img = tio.ScalarImage(os.path.join(input_folder, image))\n",
    "# bounds = img.get_bounds()\n",
    "# # width = int(abs(bounds[1][1] - bounds[1][0])) + 120\n",
    "# # height = int((abs(bounds[2][1] - bounds[2][0]) + 150) ) \n",
    "width = 80\n",
    "height = 200\n",
    "# print(width, height)\n",
    "sub = read(\n",
    "    volume=img,\n",
    "    orientation=\"AP\",\n",
    "    bone_attenuation_multiplier=1.0,\n",
    ")\n",
    "\n",
    "subject = tio.Subject(sub)\n",
    "\n",
    "drr = DRR(\n",
    "    subject,  # A torchio.Subject object storing the CT volume, origin, and voxel spacing\n",
    "    sdd=2560,  # Source-to-detector distance (i.e., the C-arm's focal length)\n",
    "    height=height,\n",
    "    width=width,  # Height of the DRR (if width is not seperately provided, the generated image is square)\n",
    "    delx=2,  # Pixel spacing (in mm)\n",
    ").to(device)\n",
    "# Set the camera pose with rotations (yaw, pitch, roll) and translations (x, y, z)\n",
    "\n",
    "\n",
    "# print(image)\n",
    "    \n",
    "    \n",
    "    # rotations[0][1] =   random.uniform(-5, 5) * math.pi / 180\n",
    "    # print(bounds)\n",
    "    # width = int(\n",
    "    #     (abs(bounds[0][1] - bounds[0][0])) + abs(bounds[1][1] - bounds[1][0] / 2)\n",
    "    # )\n",
    "    \n",
    "    \n",
    "img = drr(\n",
    "    rotations,\n",
    "    translations,\n",
    "    parameterization=\"euler_angles\",\n",
    "    convention=\"ZXY\",\n",
    ")\n",
    "# half_height = img.shape[2] // 2\n",
    "# img = img[:, :, :half_height]\n",
    "plot_drr(img, ticks=False)\n",
    "# torch.save(img, os.path.join(output_folder, f\"DRR_torch_{i}\"))\n",
    "# print(img)\n",
    "# plt.show()\n",
    "# pose = convert(\n",
    "#     rotations, translations, parameterization=\"euler_angles\", convention=\"ZXY\"\n",
    "# )\n",
    "# ground_truth = img\n",
    "image = image.replace(\".nii.gz\", \"\")\n",
    "# imgs = []\n",
    "# n_points = [200, 400, 600, 800, 1000]\n",
    "# for n in n_points:\n",
    "#     img = drr(pose, n_points=n)\n",
    "#     imgs.append(img)\n",
    "# fig, axs = plt.subplots(1, 4, figsize=(14, 7), dpi=300, tight_layout=True)\n",
    "# img = torch.concat(imgs)\n",
    "# axs = plot_drr(img, ticks=False, title=[f\"n_points={n}\" for n in n_points], axs=axs)\n",
    "plt.savefig(f\"Data/test/img_{image}_{i}.png\")\n",
    "plt.show()\n",
    "print(img.shape)\n",
    "# img_tensor = ground_truth.float()"
   ]
  },
  {
   "cell_type": "code",
   "execution_count": 6,
   "metadata": {},
   "outputs": [
    {
     "data": {
      "image/png": "[encoded data removed]",
      "text/plain": [
       "<Figure size 1000x500 with 1 Axes>"
      ]
     },
     "metadata": {},
     "output_type": "display_data"
    },
    {
     "data": {
      "text/plain": [
       "(tensor([[-0., 0., -0.]]), tensor([[  50., 2400.,  165.]]))"
      ]
     },
     "execution_count": 6,
     "metadata": {},
     "output_type": "execute_result"
    }
   ],
   "source": [
    "\n",
    "SDD = 2560\n",
    "\n",
    "true_params = {\n",
    "    \"sdr\": SDD,\n",
    "    \"alpha\": 0.0,\n",
    "    \"beta\": 0.0,\n",
    "    \"gamma\": 0.0,\n",
    "    \"bx\": 50.0,\n",
    "    \"by\": 2400.0,\n",
    "    \"bz\": 165.0,\n",
    "}\n",
    "\n",
    "def pose_from_carm(sid, tx, ty, alpha, beta, gamma):\n",
    "    rot = torch.tensor([[alpha, beta, gamma]])\n",
    "    xyz = torch.tensor([[tx, sid, ty]])\n",
    "    return convert(rot, xyz, parameterization=\"euler_angles\", convention=\"ZXY\")\n",
    "\n",
    "\n",
    "# def get_initial_parameters(true_params):\n",
    "#     alpha = true_params[\"alpha\"] + np.random.uniform(-np.pi / 4, np.pi / 4)\n",
    "#     beta = true_params[\"beta\"] + np.random.uniform(-np.pi / 4, np.pi / 4)\n",
    "#     gamma = true_params[\"gamma\"] + np.random.uniform(-np.pi / 4, np.pi / 4)\n",
    "#     bx = true_params[\"bx\"] + np.random.uniform(-30.0, 30.0)\n",
    "#     by = true_params[\"by\"] + np.random.uniform(-30.0, 30.0)\n",
    "#     bz = true_params[\"bz\"] + np.random.uniform(-30.0, 30.0)\n",
    "#     pose = pose_from_carm(by, bx, bz, alpha, beta, gamma).to(device)\n",
    "#     rotations, translations = pose.convert(\"euler_angles\", \"ZXY\")\n",
    "#     return rotations, translations, pose\n",
    "\n",
    "def get_initial_parameters(true_params):\n",
    "    alpha = true_params[\"alpha\"] \n",
    "    beta = true_params[\"beta\"] \n",
    "    gamma = true_params[\"gamma\"] \n",
    "    bx = true_params[\"bx\"] \n",
    "    by = true_params[\"by\"] \n",
    "    bz = true_params[\"bz\"] \n",
    "    pose = pose_from_carm(by, bx, bz, alpha, beta, gamma).to(device)\n",
    "    rotations, translations = pose.convert(\"euler_angles\", \"ZXY\")\n",
    "    return rotations, translations, pose\n",
    "\n",
    "\n",
    "\n",
    "rotations, translations, pose = get_initial_parameters(true_params)\n",
    "drr = DRR(subject, sdd=SDD, height=height,width=width, delx=2).to(device)\n",
    "with torch.no_grad():\n",
    "    est = drr(pose)\n",
    "    # half_height = est.shape[2] // 2\n",
    "    # est = est[:, :, :half_height]\n",
    "plot_drr(est)\n",
    "plt.savefig(f\"Data/test/img_moving.png\")\n",
    "plt.show()\n",
    "\n",
    "rotations, translations"
   ]
  },
  {
   "cell_type": "code",
   "execution_count": 7,
   "metadata": {},
   "outputs": [
    {
     "name": "stdout",
     "output_type": "stream",
     "text": [
      "torch.Size([1, 1, 200, 80]) torch.Size([1, 1, 200, 80])\n"
     ]
    },
    {
     "data": {
      "text/plain": [
       "0.39389023184776306"
      ]
     },
     "execution_count": 7,
     "metadata": {},
     "output_type": "execute_result"
    }
   ],
   "source": [
    "\n",
    "criterion = NormalizedCrossCorrelation2d()\n",
    "ground_truth = ground_truth.float()\n",
    "print(ground_truth.shape,est.shape)\n",
    "criterion(ground_truth, est).item()\n"
   ]
  },
  {
   "cell_type": "code",
   "execution_count": 12,
   "metadata": {},
   "outputs": [],
   "source": [
    "def optimize(\n",
    "    reg: Registration,\n",
    "    ground_truth,\n",
    "    lr_rotations=5e-2,\n",
    "    lr_translations=1e2,\n",
    "    momentum=0,\n",
    "    dampening=0,\n",
    "    n_itrs=500,\n",
    "    optimizer=\"sgd\",  # 'sgd' or `adam`\n",
    "):\n",
    "    # Initialize an optimizer with different learning rates\n",
    "    # for rotations and translations since they have different scales\n",
    "    if optimizer == \"sgd\":\n",
    "        optim = torch.optim.SGD(\n",
    "            [\n",
    "                {\"params\": [reg._rotation], \"lr\": lr_rotations},\n",
    "                {\"params\": [reg._translation], \"lr\": lr_translations},\n",
    "            ],\n",
    "            momentum=momentum,\n",
    "            dampening=dampening,\n",
    "            maximize=True,\n",
    "        )\n",
    "        optimizer = optimizer.upper()\n",
    "    elif optimizer == \"adam\":\n",
    "        optim = torch.optim.Adam(\n",
    "            [\n",
    "                {\"params\": [reg._rotation], \"lr\": lr_rotations},\n",
    "                {\"params\": [reg._translation], \"lr\": lr_translations},\n",
    "            ],\n",
    "            maximize=True,\n",
    "        )\n",
    "        optimizer = optimizer.title()\n",
    "    else:\n",
    "        raise ValueError(f\"Unrecognized optimizer {optimizer}\")\n",
    "\n",
    "    params = []\n",
    "    losses = [criterion(ground_truth, reg()).item()]\n",
    "    for itr in (pbar := tqdm(range(n_itrs), ncols=100)):\n",
    "        # Save the current set of parameters\n",
    "        alpha, beta, gamma = reg.rotation.squeeze().tolist()\n",
    "        bx, by, bz = reg.translation.squeeze().tolist()\n",
    "        params.append([i for i in [alpha, beta, gamma, bx, by, bz]])\n",
    "        if itr % 5 == 2:\n",
    "            df = pd.DataFrame(params, columns=[\"alpha\", \"beta\", \"gamma\", \"bx\", \"by\", \"bz\"])\n",
    "            df[\"loss\"] = losses\n",
    "            df.to_pickle(f\"params_{optimizer}_single.pickle\")\n",
    "        # Run the optimization loop\n",
    "        optim.zero_grad()\n",
    "        estimate = reg()\n",
    "        loss = criterion(ground_truth, estimate)\n",
    "        loss.backward()\n",
    "        optim.step()\n",
    "        losses.append(loss.item())\n",
    "        pbar.set_description(f\"NCC = {loss.item():06f}\")\n",
    "\n",
    "        # Stop the optimization if the estimated and ground truth images are 99.9% correlated\n",
    "        if loss > 0.999:\n",
    "            if momentum != 0:\n",
    "                optimizer += \" + momentum\"\n",
    "            if dampening != 0:\n",
    "                optimizer += \" + dampening\"\n",
    "            tqdm.write(f\"{optimizer} converged in {itr + 1} iterations\")\n",
    "            break\n",
    "\n",
    "    # Save the final estimated pose\n",
    "    alpha, beta, gamma = reg.rotation.squeeze().tolist()\n",
    "    bx, by, bz = reg.translation.squeeze().tolist()\n",
    "    params.append([i for i in [alpha, beta, gamma, bx, by, bz]])\n",
    "\n",
    "    df = pd.DataFrame(params, columns=[\"alpha\", \"beta\", \"gamma\", \"bx\", \"by\", \"bz\"])\n",
    "    df[\"loss\"] = losses\n",
    "    return df"
   ]
  },
  {
   "cell_type": "code",
   "execution_count": 9,
   "metadata": {},
   "outputs": [],
   "source": [
    "# Keyword arguments for diffdrr.drr.DRR\n",
    "kwargs = {\n",
    "    \"subject\": subject,\n",
    "    \"sdd\": SDD,\n",
    "    \"height\": height,\n",
    "    \"width\" : width,\n",
    "    \"delx\": 2,\n",
    "    \"stop_gradients_through_grid_sample\": True,  # Enables faster optimization\n",
    "}"
   ]
  },
  {
   "cell_type": "code",
   "execution_count": 13,
   "metadata": {},
   "outputs": [],
   "source": [
    "def optimize_lbfgs(\n",
    "    reg: Registration,\n",
    "    ground_truth,\n",
    "    lr,\n",
    "    line_search_fn=None,\n",
    "    n_itrs=500,\n",
    "):\n",
    "    # Initialize the optimizer and define the closure function\n",
    "    optim = torch.optim.LBFGS(reg.parameters(), lr, line_search_fn=line_search_fn)\n",
    "\n",
    "    def closure():\n",
    "        if torch.is_grad_enabled():\n",
    "            optim.zero_grad()\n",
    "        estimate = reg()\n",
    "        loss = -criterion(ground_truth, estimate)\n",
    "        if loss.requires_grad:\n",
    "            loss.backward()\n",
    "        return loss\n",
    "\n",
    "    params = []\n",
    "    losses = [closure().abs().item()]\n",
    "    for itr in (pbar := tqdm(range(n_itrs), ncols=100)):\n",
    "        # Save the current set of parameters\n",
    "        alpha, beta, gamma = reg.rotation.squeeze().tolist()\n",
    "        bx, by, bz = reg.translation.squeeze().tolist()\n",
    "        params.append([i for i in [alpha, beta, gamma, bx, by, bz]])\n",
    "        if itr % 5 == 2:\n",
    "            df = pd.DataFrame(params, columns=[\"alpha\", \"beta\", \"gamma\", \"bx\", \"by\", \"bz\"])\n",
    "            df[\"loss\"] = losses\n",
    "            df.to_pickle(\"params_lbfgs_single.pickle\")\n",
    "        # Run the optimization loop\n",
    "        optim.step(closure)\n",
    "        with torch.no_grad():\n",
    "            loss = closure().abs().item()\n",
    "            losses.append(loss)\n",
    "            pbar.set_description(f\"NCC = {loss:06f}\")\n",
    "\n",
    "        # Stop the optimization if the estimated and ground truth images are 99.9% correlated\n",
    "        if loss > 0.999:\n",
    "            if line_search_fn is not None:\n",
    "                method = f\"L-BFGS + strong Wolfe conditions\"\n",
    "            else:\n",
    "                method = \"L-BFGS\"\n",
    "            tqdm.write(f\"{method} converged in {itr + 1} iterations\")\n",
    "            break\n",
    "\n",
    "    # Save the final estimated pose\n",
    "    alpha, beta, gamma = reg.rotation.squeeze().tolist()\n",
    "    bx, by, bz = reg.translation.squeeze().tolist()\n",
    "    params.append([i for i in [alpha, beta, gamma, bx, by, bz]])\n",
    "\n",
    "    df = pd.DataFrame(params, columns=[\"alpha\", \"beta\", \"gamma\", \"bx\", \"by\", \"bz\"])\n",
    "    df[\"loss\"] = losses\n",
    "    return df"
   ]
  },
  {
   "cell_type": "code",
   "execution_count": 8,
   "metadata": {},
   "outputs": [
    {
     "name": "stderr",
     "output_type": "stream",
     "text": [
      "NCC = 0.354507:   4%|█▋                                            | 18/500 [00:38<16:59,  2.12s/it]\n"
     ]
    },
    {
     "ename": "KeyboardInterrupt",
     "evalue": "",
     "output_type": "error",
     "traceback": [
      "\u001b[0;31m---------------------------------------------------------------------------\u001b[0m",
      "\u001b[0;31mKeyboardInterrupt\u001b[0m                         Traceback (most recent call last)",
      "Cell \u001b[0;32mIn[8], line 10\u001b[0m\n\u001b[1;32m      2\u001b[0m drr \u001b[38;5;241m=\u001b[39m DRR(\u001b[38;5;241m*\u001b[39m\u001b[38;5;241m*\u001b[39mkwargs)\u001b[38;5;241m.\u001b[39mto(device)\n\u001b[1;32m      3\u001b[0m reg \u001b[38;5;241m=\u001b[39m Registration(\n\u001b[1;32m      4\u001b[0m     drr,\n\u001b[1;32m      5\u001b[0m     rotations\u001b[38;5;241m.\u001b[39mclone(),\n\u001b[0;32m   (...)\u001b[0m\n\u001b[1;32m      8\u001b[0m     convention\u001b[38;5;241m=\u001b[39m\u001b[38;5;124m\"\u001b[39m\u001b[38;5;124mZXY\u001b[39m\u001b[38;5;124m\"\u001b[39m,\n\u001b[1;32m      9\u001b[0m )\n\u001b[0;32m---> 10\u001b[0m params_base \u001b[38;5;241m=\u001b[39m \u001b[43moptimize\u001b[49m\u001b[43m(\u001b[49m\u001b[43mreg\u001b[49m\u001b[43m,\u001b[49m\u001b[43m \u001b[49m\u001b[43mground_truth\u001b[49m\u001b[43m)\u001b[49m\n\u001b[1;32m     11\u001b[0m params_base\u001b[38;5;241m.\u001b[39mto_pickle(\u001b[38;5;124m\"\u001b[39m\u001b[38;5;124mparams_base.pickle\u001b[39m\u001b[38;5;124m\"\u001b[39m)\n\u001b[1;32m     12\u001b[0m \u001b[38;5;28;01mdel\u001b[39;00m drr\n",
      "Cell \u001b[0;32mIn[5], line 51\u001b[0m, in \u001b[0;36moptimize\u001b[0;34m(reg, ground_truth, lr_rotations, lr_translations, momentum, dampening, n_itrs, optimizer)\u001b[0m\n\u001b[1;32m     49\u001b[0m estimate \u001b[38;5;241m=\u001b[39m reg()\n\u001b[1;32m     50\u001b[0m loss \u001b[38;5;241m=\u001b[39m criterion(ground_truth, estimate)\n\u001b[0;32m---> 51\u001b[0m \u001b[43mloss\u001b[49m\u001b[38;5;241;43m.\u001b[39;49m\u001b[43mbackward\u001b[49m\u001b[43m(\u001b[49m\u001b[43m)\u001b[49m\n\u001b[1;32m     52\u001b[0m optim\u001b[38;5;241m.\u001b[39mstep()\n\u001b[1;32m     53\u001b[0m losses\u001b[38;5;241m.\u001b[39mappend(loss\u001b[38;5;241m.\u001b[39mitem())\n",
      "File \u001b[0;32m~/miniconda3/envs/py310/lib/python3.10/site-packages/torch/_tensor.py:522\u001b[0m, in \u001b[0;36mTensor.backward\u001b[0;34m(self, gradient, retain_graph, create_graph, inputs)\u001b[0m\n\u001b[1;32m    512\u001b[0m \u001b[38;5;28;01mif\u001b[39;00m has_torch_function_unary(\u001b[38;5;28mself\u001b[39m):\n\u001b[1;32m    513\u001b[0m     \u001b[38;5;28;01mreturn\u001b[39;00m handle_torch_function(\n\u001b[1;32m    514\u001b[0m         Tensor\u001b[38;5;241m.\u001b[39mbackward,\n\u001b[1;32m    515\u001b[0m         (\u001b[38;5;28mself\u001b[39m,),\n\u001b[0;32m   (...)\u001b[0m\n\u001b[1;32m    520\u001b[0m         inputs\u001b[38;5;241m=\u001b[39minputs,\n\u001b[1;32m    521\u001b[0m     )\n\u001b[0;32m--> 522\u001b[0m \u001b[43mtorch\u001b[49m\u001b[38;5;241;43m.\u001b[39;49m\u001b[43mautograd\u001b[49m\u001b[38;5;241;43m.\u001b[39;49m\u001b[43mbackward\u001b[49m\u001b[43m(\u001b[49m\n\u001b[1;32m    523\u001b[0m \u001b[43m    \u001b[49m\u001b[38;5;28;43mself\u001b[39;49m\u001b[43m,\u001b[49m\u001b[43m \u001b[49m\u001b[43mgradient\u001b[49m\u001b[43m,\u001b[49m\u001b[43m \u001b[49m\u001b[43mretain_graph\u001b[49m\u001b[43m,\u001b[49m\u001b[43m \u001b[49m\u001b[43mcreate_graph\u001b[49m\u001b[43m,\u001b[49m\u001b[43m \u001b[49m\u001b[43minputs\u001b[49m\u001b[38;5;241;43m=\u001b[39;49m\u001b[43minputs\u001b[49m\n\u001b[1;32m    524\u001b[0m \u001b[43m\u001b[49m\u001b[43m)\u001b[49m\n",
      "File \u001b[0;32m~/miniconda3/envs/py310/lib/python3.10/site-packages/torch/autograd/__init__.py:266\u001b[0m, in \u001b[0;36mbackward\u001b[0;34m(tensors, grad_tensors, retain_graph, create_graph, grad_variables, inputs)\u001b[0m\n\u001b[1;32m    261\u001b[0m     retain_graph \u001b[38;5;241m=\u001b[39m create_graph\n\u001b[1;32m    263\u001b[0m \u001b[38;5;66;03m# The reason we repeat the same comment below is that\u001b[39;00m\n\u001b[1;32m    264\u001b[0m \u001b[38;5;66;03m# some Python versions print out the first line of a multi-line function\u001b[39;00m\n\u001b[1;32m    265\u001b[0m \u001b[38;5;66;03m# calls in the traceback and some print out the last line\u001b[39;00m\n\u001b[0;32m--> 266\u001b[0m \u001b[43mVariable\u001b[49m\u001b[38;5;241;43m.\u001b[39;49m\u001b[43m_execution_engine\u001b[49m\u001b[38;5;241;43m.\u001b[39;49m\u001b[43mrun_backward\u001b[49m\u001b[43m(\u001b[49m\u001b[43m  \u001b[49m\u001b[38;5;66;43;03m# Calls into the C++ engine to run the backward pass\u001b[39;49;00m\n\u001b[1;32m    267\u001b[0m \u001b[43m    \u001b[49m\u001b[43mtensors\u001b[49m\u001b[43m,\u001b[49m\n\u001b[1;32m    268\u001b[0m \u001b[43m    \u001b[49m\u001b[43mgrad_tensors_\u001b[49m\u001b[43m,\u001b[49m\n\u001b[1;32m    269\u001b[0m \u001b[43m    \u001b[49m\u001b[43mretain_graph\u001b[49m\u001b[43m,\u001b[49m\n\u001b[1;32m    270\u001b[0m \u001b[43m    \u001b[49m\u001b[43mcreate_graph\u001b[49m\u001b[43m,\u001b[49m\n\u001b[1;32m    271\u001b[0m \u001b[43m    \u001b[49m\u001b[43minputs\u001b[49m\u001b[43m,\u001b[49m\n\u001b[1;32m    272\u001b[0m \u001b[43m    \u001b[49m\u001b[43mallow_unreachable\u001b[49m\u001b[38;5;241;43m=\u001b[39;49m\u001b[38;5;28;43;01mTrue\u001b[39;49;00m\u001b[43m,\u001b[49m\n\u001b[1;32m    273\u001b[0m \u001b[43m    \u001b[49m\u001b[43maccumulate_grad\u001b[49m\u001b[38;5;241;43m=\u001b[39;49m\u001b[38;5;28;43;01mTrue\u001b[39;49;00m\u001b[43m,\u001b[49m\n\u001b[1;32m    274\u001b[0m \u001b[43m\u001b[49m\u001b[43m)\u001b[49m\n",
      "\u001b[0;31mKeyboardInterrupt\u001b[0m: "
     ]
    }
   ],
   "source": [
    "#B#ase SGD\n",
    "drr = DRR(**kwargs).to(device)\n",
    "reg = Registration(\n",
    "    drr,\n",
    "    rotations.clone(),\n",
    "    translations.clone(),\n",
    "    parameterization=\"euler_angles\",\n",
    "    convention=\"ZXY\",\n",
    ")\n",
    "params_base = optimize(reg, ground_truth)\n",
    "params_base.to_pickle(\"params_base.pickle\")\n",
    "del drr\n",
    "\n"
   ]
  },
  {
   "cell_type": "code",
   "execution_count": null,
   "metadata": {},
   "outputs": [
    {
     "name": "stderr",
     "output_type": "stream",
     "text": [
      "NCC = 0.026141: 100%|█████████████████████████████████████████████| 500/500 [10:52<00:00,  1.31s/it]\n"
     ]
    }
   ],
   "source": [
    "# SGD + momentum\n",
    "drr = DRR(**kwargs).to(device)\n",
    "reg = Registration(\n",
    "    drr,\n",
    "    rotations.clone(),\n",
    "    translations.clone(),\n",
    "    parameterization=\"euler_angles\",\n",
    "    convention=\"ZXY\",\n",
    ")\n",
    "params_momentum = optimize(reg, ground_truth, momentum=5e-1)\n",
    "params_momentum.to_pickle(\"params_momentum.pickle\")\n",
    "\n",
    "del drr\n",
    "\n"
   ]
  },
  {
   "cell_type": "code",
   "execution_count": null,
   "metadata": {},
   "outputs": [
    {
     "name": "stderr",
     "output_type": "stream",
     "text": [
      "NCC = 0.026135: 100%|█████████████████████████████████████████████| 500/500 [10:52<00:00,  1.31s/it]\n"
     ]
    }
   ],
   "source": [
    "# SGD + momentum + dampening\n",
    "drr = DRR(**kwargs).to(device)\n",
    "reg = Registration(\n",
    "    drr,\n",
    "    rotations.clone(),\n",
    "    translations.clone(),\n",
    "    parameterization=\"euler_angles\",\n",
    "    convention=\"ZXY\",\n",
    ")\n",
    "params_momentum_dampen = optimize(reg, ground_truth, momentum=5e-1, dampening=1e-4)\n",
    "params_momentum_dampen.to_pickle(\"params_momentum_dampen.pickle\")\n",
    "\n",
    "del drr\n",
    "\n"
   ]
  },
  {
   "cell_type": "code",
   "execution_count": 14,
   "metadata": {},
   "outputs": [
    {
     "name": "stderr",
     "output_type": "stream",
     "text": [
      "NCC = 0.675490: 100%|█████████████████████████████████████████████| 500/500 [18:20<00:00,  2.20s/it]\n"
     ]
    }
   ],
   "source": [
    "#Adam\n",
    "drr = DRR(**kwargs).to(device)\n",
    "reg = Registration(\n",
    "    drr,\n",
    "    rotations.clone(),\n",
    "    translations.clone(),\n",
    "    parameterization=\"euler_angles\",\n",
    "    convention=\"ZXY\",\n",
    ")\n",
    "params_adam = optimize(reg, ground_truth, 1e-1, 5e0, optimizer=\"adam\")\n",
    "params_adam.to_pickle(\"params_adam.pickle\")\n",
    "\n",
    "del drr\n",
    "\n"
   ]
  },
  {
   "cell_type": "code",
   "execution_count": null,
   "metadata": {},
   "outputs": [
    {
     "name": "stderr",
     "output_type": "stream",
     "text": [
      "NCC = 0.000000: 100%|█████████████████████████████████████████████| 500/500 [15:39<00:00,  1.88s/it]\n"
     ]
    }
   ],
   "source": [
    "# L-BFGS\n",
    "drr = DRR(**kwargs).to(device)\n",
    "reg = Registration(\n",
    "    drr,\n",
    "    rotations.clone(),\n",
    "    translations.clone(),\n",
    "    parameterization=\"euler_angles\",\n",
    "    convention=\"ZXY\",\n",
    ")\n",
    "params_lbfgs = optimize_lbfgs(reg, ground_truth, lr=3e-1)\n",
    "params_lbfgs.to_pickle(\"params_lbfgs.pickle\")\n",
    "\n",
    "del drr\n",
    "\n"
   ]
  },
  {
   "cell_type": "code",
   "execution_count": 16,
   "metadata": {},
   "outputs": [
    {
     "name": "stderr",
     "output_type": "stream",
     "text": [
      "NCC = 0.433635: 100%|███████████████████████████████████████████| 500/500 [2:02:43<00:00, 14.73s/it]\n"
     ]
    }
   ],
   "source": [
    "drr = DRR(**kwargs).to(device)\n",
    "reg = Registration(\n",
    "    drr,\n",
    "    rotations.clone(),\n",
    "    translations.clone(),\n",
    "    parameterization=\"euler_angles\",\n",
    "    convention=\"ZXY\",\n",
    ")\n",
    "params_lbfgs_wolfe = optimize_lbfgs(\n",
    "    reg, ground_truth, lr =1e0, line_search_fn=\"strong_wolfe\"\n",
    ")\n",
    "del drr"
   ]
  },
  {
   "cell_type": "code",
   "execution_count": null,
   "metadata": {},
   "outputs": [
    {
     "ename": "NameError",
     "evalue": "name 'params_adam' is not defined",
     "output_type": "error",
     "traceback": [
      "\u001b[0;31m---------------------------------------------------------------------------\u001b[0m",
      "\u001b[0;31mNameError\u001b[0m                                 Traceback (most recent call last)",
      "Cell \u001b[0;32mIn[55], line 14\u001b[0m\n\u001b[1;32m      3\u001b[0m \u001b[38;5;28;01mfrom\u001b[39;00m \u001b[38;5;21;01mIPython\u001b[39;00m\u001b[38;5;21;01m.\u001b[39;00m\u001b[38;5;21;01mdisplay\u001b[39;00m \u001b[38;5;28;01mimport\u001b[39;00m HTML, display\n\u001b[1;32m      5\u001b[0m \u001b[38;5;28;01mfrom\u001b[39;00m \u001b[38;5;21;01mdiffdrr\u001b[39;00m\u001b[38;5;21;01m.\u001b[39;00m\u001b[38;5;21;01mvisualization\u001b[39;00m \u001b[38;5;28;01mimport\u001b[39;00m animate\n\u001b[1;32m      7\u001b[0m MAX_LENGTH \u001b[38;5;241m=\u001b[39m \u001b[38;5;28mmax\u001b[39m(\n\u001b[1;32m      8\u001b[0m     \u001b[38;5;28mmap\u001b[39m(\n\u001b[1;32m      9\u001b[0m         \u001b[38;5;28mlen\u001b[39m,\n\u001b[1;32m     10\u001b[0m         [\n\u001b[1;32m     11\u001b[0m             params_base,\n\u001b[1;32m     12\u001b[0m             params_momentum,\n\u001b[1;32m     13\u001b[0m             params_momentum_dampen,\n\u001b[0;32m---> 14\u001b[0m             \u001b[43mparams_adam\u001b[49m,\n\u001b[1;32m     15\u001b[0m             params_lbfgs,\n\u001b[1;32m     16\u001b[0m             params_lbfgs_wolfe,\n\u001b[1;32m     17\u001b[0m         ],\n\u001b[1;32m     18\u001b[0m     )\n\u001b[1;32m     19\u001b[0m )\n\u001b[1;32m     20\u001b[0m drr \u001b[38;5;241m=\u001b[39m DRR(subject, sdd\u001b[38;5;241m=\u001b[39mSDD, height\u001b[38;5;241m=\u001b[39mHEIGHT, delx\u001b[38;5;241m=\u001b[39mDELX)\u001b[38;5;241m.\u001b[39mto(device)\n\u001b[1;32m     23\u001b[0m \u001b[38;5;28;01mdef\u001b[39;00m \u001b[38;5;21manimate_in_browser\u001b[39m(df, skip\u001b[38;5;241m=\u001b[39m\u001b[38;5;241m1\u001b[39m, max_length\u001b[38;5;241m=\u001b[39mMAX_LENGTH, duration\u001b[38;5;241m=\u001b[39m\u001b[38;5;241m30\u001b[39m):\n",
      "\u001b[0;31mNameError\u001b[0m: name 'params_adam' is not defined"
     ]
    }
   ],
   "source": [
    "from base64 import b64encode\n",
    "\n",
    "from IPython.display import HTML, display\n",
    "\n",
    "from diffdrr.visualization import animate\n",
    "\n",
    "MAX_LENGTH = max(\n",
    "    map(\n",
    "        len,\n",
    "        [\n",
    "            params_base,\n",
    "            params_momentum,\n",
    "            params_momentum_dampen,\n",
    "            params_adam,\n",
    "            params_lbfgs,\n",
    "            params_lbfgs_wolfe,\n",
    "        ],\n",
    "    )\n",
    ")\n",
    "drr = DRR(subject, sdd=SDD, height=HEIGHT, delx=DELX).to(device)\n",
    "\n",
    "\n",
    "def animate_in_browser(df, skip=1, max_length=MAX_LENGTH, duration=30):\n",
    "    if max_length is not None:\n",
    "        n = max_length - len(df)\n",
    "        df = pd.concat([df, df.iloc[[-1] * n]]).iloc[::skip]\n",
    "    else:\n",
    "        pass\n",
    "\n",
    "    out = animate(\n",
    "        \"<bytes>\",\n",
    "        df,\n",
    "        drr,\n",
    "        ground_truth=ground_truth,\n",
    "        verbose=True,\n",
    "        device=device,\n",
    "        extension=\".webp\",\n",
    "        duration=duration,\n",
    "        parameterization=\"euler_angles\",\n",
    "        convention=\"ZXY\",\n",
    "    )\n",
    "    display(HTML(f\"\"\"<img src='{\"data:img/gif;base64,\" + b64encode(out).decode()}'>\"\"\"))"
   ]
  },
  {
   "cell_type": "code",
   "execution_count": null,
   "metadata": {},
   "outputs": [],
   "source": []
  },
  {
   "cell_type": "code",
   "execution_count": null,
   "metadata": {},
   "outputs": [],
   "source": []
  }
 ],
 "metadata": {
  "kernelspec": {
   "display_name": "py310",
   "language": "python",
   "name": "python3"
  },
  "language_info": {
   "codemirror_mode": {
    "name": "ipython",
    "version": 3
   },
   "file_extension": ".py",
   "mimetype": "text/x-python",
   "name": "python",
   "nbconvert_exporter": "python",
   "pygments_lexer": "ipython3",
   "version": "3.10.13"
  }
 },
 "nbformat": 4,
 "nbformat_minor": 2
}
